{
 "cells": [
  {
   "cell_type": "code",
   "execution_count": 1,
   "metadata": {},
   "outputs": [],
   "source": [
    "# Función para leer 3 tanques de combustible y muestre el promedio\n",
    "\n",
    "def generar_reporte(main_tank, external_tank, hydrogen_tank):\n",
    "    promedio_total = (main_tank + external_tank + hydrogen_tank) / 3\n",
    "    return f\"\"\"Reporte de combustible:\n",
    "    Promedio Total: {promedio_total}%\n",
    "    Tanque principal: {main_tank}%\n",
    "    Tanque externo: {external_tank}%\n",
    "    Tanque de Hidrogeno: {hydrogen_tank}% \n",
    "    \"\"\""
   ]
  },
  {
   "cell_type": "code",
   "execution_count": 2,
   "metadata": {},
   "outputs": [
    {
     "name": "stdout",
     "output_type": "stream",
     "text": [
      "Reporte de combustible:\n",
      "    Promedio Total: 50.333333333333336%\n",
      "    Tanque principal: 50%\n",
      "    Tanque externo: 41%\n",
      "    Tanque de Hidrogeno: 60% \n",
      "    \n"
     ]
    }
   ],
   "source": [
    "# Llamamos a la función que genera el reporte print(funcion(tanque1, tanque2, tanque3))\n",
    "print(generar_reporte(50, 41, 60))"
   ]
  },
  {
   "cell_type": "code",
   "execution_count": 3,
   "metadata": {},
   "outputs": [
    {
     "data": {
      "text/plain": [
       "82.0"
      ]
     },
     "execution_count": 3,
     "metadata": {},
     "output_type": "execute_result"
    }
   ],
   "source": [
    "# Función promedio \n",
    "def promedio(values):\n",
    "    total = sum(values)\n",
    "    number_of_items = len(values)\n",
    "    return total / number_of_items\n",
    "\n",
    "# Test the averaging function with a list of integers:\n",
    "promedio([80, 85, 81]) "
   ]
  },
  {
   "cell_type": "code",
   "execution_count": 4,
   "metadata": {},
   "outputs": [
    {
     "name": "stdout",
     "output_type": "stream",
     "text": [
      "Reporte Combustibles:\n",
      "    Promedio Total: 78.0%\n",
      "    Tanque Principal: 88%\n",
      "    Tanque externo: 76%\n",
      "    Tanque de Hidrogeno: 70% \n",
      "    \n"
     ]
    }
   ],
   "source": [
    "# Actualiza la función\n",
    "def genera_reporte(main_tank, external_tank, hydrogen_tank):\n",
    "    return f\"\"\"Reporte Combustibles:\n",
    "    Promedio Total: {promedio([main_tank, external_tank, hydrogen_tank])}%\n",
    "    Tanque Principal: {main_tank}%\n",
    "    Tanque externo: {external_tank}%\n",
    "    Tanque de Hidrogeno: {hydrogen_tank}% \n",
    "    \"\"\"\n",
    "\n",
    "# Call the updated function again with different values\n",
    "print(genera_reporte(88, 76, 70))"
   ]
  },
  {
   "cell_type": "code",
   "execution_count": 5,
   "metadata": {},
   "outputs": [
    {
     "name": "stdout",
     "output_type": "stream",
     "text": [
      "\n",
      "    Mision a Marte\n",
      "    Tiempo Total: 120 minutos\n",
      "    Total de combustible: 5850000 galones\n",
      "    \n"
     ]
    }
   ],
   "source": [
    "# Función con un informe preciso de la misión. Considera hora de prelanzamiento, tiempo de vuelo, destino, tanque externo y tanque interno\n",
    "\n",
    "def mision_reporte(pre_launch_time, flight_time, destination, external_tank, main_tank):\n",
    "    return f\"\"\"\n",
    "    Mision a {destination}\n",
    "    Tiempo Total: {pre_launch_time + flight_time} minutos\n",
    "    Total de combustible: {external_tank + main_tank} galones\n",
    "    \"\"\"\n",
    "\n",
    "print(mision_reporte(20, 100, \"Marte\", 2000000, 3850000))"
   ]
  },
  {
   "cell_type": "code",
   "execution_count": 6,
   "metadata": {},
   "outputs": [
    {
     "name": "stdout",
     "output_type": "stream",
     "text": [
      "\n",
      "    Minutos Jupiter\n",
      "    Tiempo total de viaje: 76 minutos\n",
      "    Total de combustible: 3250000\n",
      "    \n"
     ]
    }
   ],
   "source": [
    "# Escribe tu nueva función de reporte considerando lo anterior\n",
    "\n",
    "def mision_reporte(destination, *minutes, **fuel_reservoirs):\n",
    "    return f\"\"\"\n",
    "    Minutos {destination}\n",
    "    Tiempo total de viaje: {sum(minutes)} minutos\n",
    "    Total de combustible: {sum(fuel_reservoirs.values())}\n",
    "    \"\"\"\n",
    "\n",
    "print(mision_reporte(\"Jupiter\", 10, 15, 51, main=3000000, external=250000))"
   ]
  },
  {
   "cell_type": "code",
   "execution_count": 7,
   "metadata": {},
   "outputs": [
    {
     "name": "stdout",
     "output_type": "stream",
     "text": [
      "\n",
      "    Mision a Luna\n",
      "    Tiempo total: 74 minutos\n",
      "    Total de combustible: 500000\n",
      "    main Tanque: 300000 galones restante\n",
      "external Tanque: 200000 galones restante\n",
      "\n"
     ]
    }
   ],
   "source": [
    "# Escribe tu nueva función\n",
    "\n",
    "def mision_reporte(destination, *minutes, **fuel_reservoirs):\n",
    "    main_report = f\"\"\"\n",
    "    Mision a {destination}\n",
    "    Tiempo total: {sum(minutes)} minutos\n",
    "    Total de combustible: {sum(fuel_reservoirs.values())}\n",
    "    \"\"\"\n",
    "    for tank_name, gallons in fuel_reservoirs.items():\n",
    "        main_report += f\"{tank_name} Tanque: {gallons} galones restante\\n\"\n",
    "    return main_report\n",
    "\n",
    "print(mision_reporte(\"Luna\", 8, 11, 55, main=300000, external=200000))"
   ]
  },
  {
   "cell_type": "code",
   "execution_count": null,
   "metadata": {},
   "outputs": [],
   "source": []
  }
 ],
 "metadata": {
  "kernelspec": {
   "display_name": "Python 3",
   "language": "python",
   "name": "python3"
  },
  "language_info": {
   "codemirror_mode": {
    "name": "ipython",
    "version": 3
   },
   "file_extension": ".py",
   "mimetype": "text/x-python",
   "name": "python",
   "nbconvert_exporter": "python",
   "pygments_lexer": "ipython3",
   "version": "3.8.5"
  }
 },
 "nbformat": 4,
 "nbformat_minor": 4
}
