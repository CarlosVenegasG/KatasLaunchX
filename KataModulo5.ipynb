{
 "cells": [
  {
   "cell_type": "code",
   "execution_count": 1,
   "metadata": {},
   "outputs": [
    {
     "name": "stdout",
     "output_type": "stream",
     "text": [
      "La distancia entre la tierra y Jupiter es de 628949330 en km\n"
     ]
    }
   ],
   "source": [
    "# Crear variables para almacenar las dos distancias\n",
    "# ¡Asegúrate de quitar las comas!\n",
    "\n",
    "tierra =149597870 \n",
    "jupiter = 778547200\n",
    "\n",
    "print(f\"La distancia entre la tierra y Jupiter es de {jupiter-tierra} en km\")"
   ]
  },
  {
   "cell_type": "code",
   "execution_count": 2,
   "metadata": {},
   "outputs": [
    {
     "name": "stdout",
     "output_type": "stream",
     "text": [
      "La distancia entre la tierra y Jupiter es de 390577533.93 en millas\n"
     ]
    }
   ],
   "source": [
    "# Calcular la distancia entre planetas en millas\n",
    "print(f\"La distancia entre la tierra y Jupiter es de {(jupiter-tierra)*0.621} en millas\")"
   ]
  },
  {
   "cell_type": "code",
   "execution_count": 3,
   "metadata": {},
   "outputs": [
    {
     "name": "stdout",
     "output_type": "stream",
     "text": [
      "Ingresa la distancia para el primer planeta: 300000000\n",
      "Ingresa la distancia para el segundo planeta: 100000000\n"
     ]
    }
   ],
   "source": [
    "# Almacenar las entradas del usuario\n",
    "#Pista: variable = input(\"¿Cuál es tu nombre?\")\n",
    "\n",
    "planeta1 = input(\"Ingresa la distancia para el primer planeta: \")\n",
    "planeta2 = input(\"Ingresa la distancia para el segundo planeta: \")"
   ]
  },
  {
   "cell_type": "code",
   "execution_count": 4,
   "metadata": {},
   "outputs": [],
   "source": [
    "# Convierte las cadenas de ambos planetas a números enteros\n",
    "planeta1 = int(planeta1)\n",
    "planeta2 = int(planeta2)"
   ]
  },
  {
   "cell_type": "code",
   "execution_count": 5,
   "metadata": {},
   "outputs": [
    {
     "name": "stdout",
     "output_type": "stream",
     "text": [
      "La distancia es de: 200000000 km\n",
      "La distancia es de: 124200000.0 mi \n"
     ]
    }
   ],
   "source": [
    " #Realizar el cálculo y determinar el valor absoluto\n",
    "if(planeta1 > planeta2):\n",
    "    distancia = planeta1-planeta2\n",
    "    print(f\"La distancia es de: {distancia} km\")\n",
    "    print(f\"La distancia es de: {distancia*0.621} mi \")\n",
    "else:\n",
    "    distancia = planeta2-planeta1\n",
    "    print(f\"La distancia es de: {distancia} km\")\n",
    "    print(f\"La distancia es de: {distancia*0.621} mi\")\n",
    "    \n",
    "    "
   ]
  },
  {
   "cell_type": "code",
   "execution_count": null,
   "metadata": {},
   "outputs": [],
   "source": []
  }
 ],
 "metadata": {
  "kernelspec": {
   "display_name": "Python 3",
   "language": "python",
   "name": "python3"
  },
  "language_info": {
   "codemirror_mode": {
    "name": "ipython",
    "version": 3
   },
   "file_extension": ".py",
   "mimetype": "text/x-python",
   "name": "python",
   "nbconvert_exporter": "python",
   "pygments_lexer": "ipython3",
   "version": "3.8.5"
  }
 },
 "nbformat": 4,
 "nbformat_minor": 4
}
