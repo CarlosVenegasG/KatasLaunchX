{
 "cells": [
  {
   "cell_type": "code",
   "execution_count": 1,
   "metadata": {},
   "outputs": [
    {
     "name": "stdout",
     "output_type": "stream",
     "text": [
      "Cuidado un asteroide se aproxima\n"
     ]
    }
   ],
   "source": [
    "# Añadir el código necesario para crear una variable que guarde la velocidad del asteroide.\n",
    "# Escribe una expresión de prueba para calcular si necesita una advertencia.\n",
    "# Agregue las instrucciones que se ejecutarán si la expresión de prueba es true o false.\n",
    "# Un asteroide se acerca, y viaja a una velocidad de 49 km/s.\n",
    "# Cualquier velocidad superior a 25 kilómetros por segundo (km/s) merece una advertencia.\n",
    "\n",
    "VelAsteroide = 49\n",
    "\n",
    "if (VelAsteroide > 25):\n",
    "    print(\"Cuidado un asteroide se aproxima\")\n",
    "    \n",
    "else:\n",
    "    print(\"No se ve un asteroide en el horizonte\")"
   ]
  },
  {
   "cell_type": "code",
   "execution_count": 3,
   "metadata": {},
   "outputs": [
    {
     "name": "stdout",
     "output_type": "stream",
     "text": [
      "No se ha visto nada en el cielo\n"
     ]
    }
   ],
   "source": [
    "\"\"\"\n",
    "Si un asteroide entra en la atmósfera de la Tierra a una velocidad mayor o igual a 20 km/s, a veces produce un rayo de luz\n",
    "que se puede ver desde la Tierra. Escribe la lógica condicional que usa declaraciones if, else, y elif para alertar a las\n",
    "personas de todo el mundo que deben buscar un asteroide en el cielo. ¡Hay uno que se dirige a la tierra ahora a una velocidad\n",
    "de 19 km/s!\n",
    "\"\"\"\n",
    "\n",
    "# Agrega el código para crear una variable para un asteroide que viaja a 19 km/s\n",
    "# Escribe varias expresiones de prueba para determinar si puedes ver el rayo de luz desde la tierra\n",
    "# Agrega las instrucciones que se ejecutarán si las expresiones de prueba son True o False\n",
    "\n",
    "VelAsteroide = 19\n",
    "\n",
    "if (VelAsteroide == 20 ):\n",
    "    print(\"Se aproxima un Asteroide\")\n",
    "elif(VelAsteroide > 20):\n",
    "    print(\"Se aproxima un Asteroide a gran velocidad\")\n",
    "else:\n",
    "    print(\"No se ha visto nada en el cielo\")\n",
    "    "
   ]
  },
  {
   "cell_type": "code",
   "execution_count": 5,
   "metadata": {},
   "outputs": [
    {
     "name": "stdout",
     "output_type": "stream",
     "text": [
      "El asteroide causará una gran destruccion pero no es una amenaza\n"
     ]
    }
   ],
   "source": [
    "# Agrega el código para crear nuevas variables para la velocidad y el tamaño del asteroide\n",
    "# Para probar el código, prueba con varias velocidades y tamaños\n",
    "# Escribe varias expresiones de prueba o combinaciones de expresiones de prueba para determinar qué mensaje se debe enviar a Tierra.\n",
    "\n",
    "DimensionAsteroide = 30\n",
    "VelAsteroide = 200\n",
    "\n",
    "if(DimensionAsteroide < 25 and VelAsteroide < 25):\n",
    "    print(\"El asteroide es pequeño y no es tan veloz, no es una amenaza\")\n",
    "elif(DimensionAsteroide < 25 and VelAsteroide > 25):\n",
    "    print(\"El asteroide es pequeño y su velocidad lo hace visible, no es una amenaza\")\n",
    "elif((DimensionAsteroide > 25 and DimensionAsteroide < 1000)  and VelAsteroide <25):\n",
    "    print(\"El asteroide causará una gran destruccion pero no es una amenaza\")\n",
    "else:\n",
    "    print(\"El asteroide causará una gran destruccion, todos alerta\")\n",
    "    \n",
    "    \n"
   ]
  },
  {
   "cell_type": "code",
   "execution_count": null,
   "metadata": {},
   "outputs": [],
   "source": []
  }
 ],
 "metadata": {
  "kernelspec": {
   "display_name": "Python 3",
   "language": "python",
   "name": "python3"
  },
  "language_info": {
   "codemirror_mode": {
    "name": "ipython",
    "version": 3
   },
   "file_extension": ".py",
   "mimetype": "text/x-python",
   "name": "python",
   "nbconvert_exporter": "python",
   "pygments_lexer": "ipython3",
   "version": "3.8.5"
  }
 },
 "nbformat": 4,
 "nbformat_minor": 4
}
